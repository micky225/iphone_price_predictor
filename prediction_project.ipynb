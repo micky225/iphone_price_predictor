{
 "cells": [
  {
   "cell_type": "code",
   "execution_count": 1,
   "id": "e5310001",
   "metadata": {},
   "outputs": [],
   "source": [
    "import pandas as pd\n",
    "import sqlite3 as db\n",
    "from sklearn.linear_model import LinearRegression"
   ]
  },
  {
   "cell_type": "code",
   "execution_count": 2,
   "id": "e6f24082",
   "metadata": {},
   "outputs": [
    {
     "name": "stdout",
     "output_type": "stream",
     "text": [
      "['\"iphone\", 499 , 2, 2007', '\"iphone 3G \", 499 , 2, 2008', '\"iphone 3GS\", 599 , 3, 2009', '\"iphone 4\", 649 , 5, 20010', '\"iphone 4S\", 649 , 5, 2011', '\"iphone 5\", 649 , 6, 2012', '\"iphone 5C\", 549 , 7, 2013', '\"iphone 5s\", 649 , 7, 2013', '\"iphone 6\", 649 , 8, 2014', '\"iphone 6 Plus\", 749 , 8, 2014', '\"iphone 6s\", 649 , 9, 2015', '\"iphone 6s Plus\", 749 , 9, 2015', '\"iphone SE\", 399 , 9, 2016', '\"iphone 7\", 649 , 10, 2016', '\"iphone 7 Plus\", 769 , 10, 2016', '\"iphone 8\", 699 , 11, 2017', '\"iphone 8 Plus\", 799 , 11, 2017', '\"iphone X\", 999 , 11, 2017', '\"iphone XR\", 749 , 12, 2018', '\"iphone XS\", 999 , 12, 2018', '\"iphone XS Max\", 1099 , 12, 2018', '\"iphone 11\", 699 , 13, 2019', '\"iphone 11 Pro\", 999 , 13, 2019', '\"iphone 11 Pro Max\", 1099 , 13, 2019', '\"iphone SE 2nd Gen\", 399 , 14, 2020', '\"iphone 12 mini\", 999 , 14, 2020', '\"iphone 12\", 799 , 14, 2020', '\"iphone 12 Pro\", 999 , 14, 2020', '\"iphone 12 Pro Max\", 1099 , 14, 2020', '\"iphone 13 mini\", 699 , 15, 2021', '\"iphone 13\", 799 , 15, 2021', '\"iphone 13 Pro\", 999 , 15, 2021', '\"iphone 13 Pro Max\", 1099 , 15, 2021', '\"iphone 14\", 799 , 16, 2022', '\"iphone 14 Plus\", 899 , 16, 2022', '\"iphone 14 Pro\", 999 , 16, 2022', '\"iphone 14 Pro Max \", 1099 , 16, 2022']\n"
     ]
    }
   ],
   "source": [
    "with open(\"sqlite.txt\") as data:\n",
    "    content = data.read()\n",
    "    content_ref = content.replace('(','').replace(')','').replace('\\\\', '').split(\"\\n\")\n",
    "    print(content_ref)"
   ]
  },
  {
   "cell_type": "code",
   "execution_count": 3,
   "id": "9a7c1911",
   "metadata": {},
   "outputs": [],
   "source": [
    "conn = db.connect (\"sqlite1.db\")\n"
   ]
  },
  {
   "cell_type": "code",
   "execution_count": 4,
   "id": "25683f4e",
   "metadata": {},
   "outputs": [],
   "source": [
    "curs = conn.cursor()\n"
   ]
  },
  {
   "cell_type": "code",
   "execution_count": 5,
   "id": "a82e4d79",
   "metadata": {},
   "outputs": [],
   "source": [
    "#  curs.execute(\"\"\" CREATE TABLE  iphoness(\n",
    "#     iphone_name  varchar(50),\n",
    "#     iphone_price int,\n",
    "#     iphone_version float,\n",
    "#     iphone_year_of_release int\n",
    "#     )\"\"\")\n"
   ]
  },
  {
   "cell_type": "code",
   "execution_count": 6,
   "metadata": {},
   "outputs": [],
   "source": [
    " for item_data in content_ref:\n",
    "   query = f\"INSERT INTO iphoness VALUES({item_data})\"\n",
    "   curs.execute(query)    "
   ]
  },
  {
   "cell_type": "code",
   "execution_count": 7,
   "id": "38b9d58e",
   "metadata": {},
   "outputs": [
    {
     "data": {
      "text/plain": [
       "<sqlite3.Cursor at 0x2a4d635eac0>"
      ]
     },
     "execution_count": 7,
     "metadata": {},
     "output_type": "execute_result"
    }
   ],
   "source": [
    "curs.execute(\"SELECT * FROM iphoness\")"
   ]
  },
  {
   "cell_type": "code",
   "execution_count": 8,
   "id": "bdb86054",
   "metadata": {},
   "outputs": [],
   "source": [
    "conn.commit()\n",
    "conn.close()"
   ]
  },
  {
   "cell_type": "code",
   "execution_count": 9,
   "id": "6484064f",
   "metadata": {},
   "outputs": [
    {
     "data": {
      "text/html": [
       "<div>\n",
       "<style scoped>\n",
       "    .dataframe tbody tr th:only-of-type {\n",
       "        vertical-align: middle;\n",
       "    }\n",
       "\n",
       "    .dataframe tbody tr th {\n",
       "        vertical-align: top;\n",
       "    }\n",
       "\n",
       "    .dataframe thead th {\n",
       "        text-align: right;\n",
       "    }\n",
       "</style>\n",
       "<table border=\"1\" class=\"dataframe\">\n",
       "  <thead>\n",
       "    <tr style=\"text-align: right;\">\n",
       "      <th></th>\n",
       "      <th>iphone_name</th>\n",
       "      <th>iphone_price</th>\n",
       "      <th>iphone_version</th>\n",
       "      <th>iphone_year_of_release</th>\n",
       "    </tr>\n",
       "  </thead>\n",
       "  <tbody>\n",
       "    <tr>\n",
       "      <th>0</th>\n",
       "      <td>iphone</td>\n",
       "      <td>499</td>\n",
       "      <td>2.0</td>\n",
       "      <td>2007</td>\n",
       "    </tr>\n",
       "    <tr>\n",
       "      <th>1</th>\n",
       "      <td>iphone 3G</td>\n",
       "      <td>499</td>\n",
       "      <td>2.0</td>\n",
       "      <td>2008</td>\n",
       "    </tr>\n",
       "    <tr>\n",
       "      <th>2</th>\n",
       "      <td>iphone 3GS</td>\n",
       "      <td>599</td>\n",
       "      <td>3.0</td>\n",
       "      <td>2009</td>\n",
       "    </tr>\n",
       "    <tr>\n",
       "      <th>3</th>\n",
       "      <td>iphone 4</td>\n",
       "      <td>649</td>\n",
       "      <td>5.0</td>\n",
       "      <td>20010</td>\n",
       "    </tr>\n",
       "    <tr>\n",
       "      <th>4</th>\n",
       "      <td>iphone 4S</td>\n",
       "      <td>649</td>\n",
       "      <td>5.0</td>\n",
       "      <td>2011</td>\n",
       "    </tr>\n",
       "    <tr>\n",
       "      <th>...</th>\n",
       "      <td>...</td>\n",
       "      <td>...</td>\n",
       "      <td>...</td>\n",
       "      <td>...</td>\n",
       "    </tr>\n",
       "    <tr>\n",
       "      <th>180</th>\n",
       "      <td>iphone 13 Pro Max</td>\n",
       "      <td>1099</td>\n",
       "      <td>15.0</td>\n",
       "      <td>2021</td>\n",
       "    </tr>\n",
       "    <tr>\n",
       "      <th>181</th>\n",
       "      <td>iphone 14</td>\n",
       "      <td>799</td>\n",
       "      <td>16.0</td>\n",
       "      <td>2022</td>\n",
       "    </tr>\n",
       "    <tr>\n",
       "      <th>182</th>\n",
       "      <td>iphone 14 Plus</td>\n",
       "      <td>899</td>\n",
       "      <td>16.0</td>\n",
       "      <td>2022</td>\n",
       "    </tr>\n",
       "    <tr>\n",
       "      <th>183</th>\n",
       "      <td>iphone 14 Pro</td>\n",
       "      <td>999</td>\n",
       "      <td>16.0</td>\n",
       "      <td>2022</td>\n",
       "    </tr>\n",
       "    <tr>\n",
       "      <th>184</th>\n",
       "      <td>iphone 14 Pro Max</td>\n",
       "      <td>1099</td>\n",
       "      <td>16.0</td>\n",
       "      <td>2022</td>\n",
       "    </tr>\n",
       "  </tbody>\n",
       "</table>\n",
       "<p>185 rows × 4 columns</p>\n",
       "</div>"
      ],
      "text/plain": [
       "            iphone_name  iphone_price  iphone_version  iphone_year_of_release\n",
       "0                iphone           499             2.0                    2007\n",
       "1            iphone 3G            499             2.0                    2008\n",
       "2            iphone 3GS           599             3.0                    2009\n",
       "3              iphone 4           649             5.0                   20010\n",
       "4             iphone 4S           649             5.0                    2011\n",
       "..                  ...           ...             ...                     ...\n",
       "180   iphone 13 Pro Max          1099            15.0                    2021\n",
       "181           iphone 14           799            16.0                    2022\n",
       "182      iphone 14 Plus           899            16.0                    2022\n",
       "183       iphone 14 Pro           999            16.0                    2022\n",
       "184  iphone 14 Pro Max           1099            16.0                    2022\n",
       "\n",
       "[185 rows x 4 columns]"
      ]
     },
     "execution_count": 9,
     "metadata": {},
     "output_type": "execute_result"
    }
   ],
   "source": [
    "con = db.connect(\"sqlite1.db\")\n",
    "df_Items = pd.read_sql_query(\"select * from iphoness\", con)\n",
    "\n",
    "\n",
    "df_Items"
   ]
  },
  {
   "cell_type": "code",
   "execution_count": null,
   "id": "337aa1a6",
   "metadata": {},
   "outputs": [],
   "source": []
  },
  {
   "cell_type": "code",
   "execution_count": 10,
   "id": "c8314808",
   "metadata": {},
   "outputs": [
    {
     "name": "stdout",
     "output_type": "stream",
     "text": [
      "[[1897.73616154]]\n"
     ]
    },
    {
     "name": "stderr",
     "output_type": "stream",
     "text": [
      "C:\\Users\\User 1\\AppData\\Roaming\\Python\\Python311\\site-packages\\sklearn\\base.py:439: UserWarning: X does not have valid feature names, but LinearRegression was fitted with feature names\n",
      "  warnings.warn(\n"
     ]
    }
   ],
   "source": [
    "model = LinearRegression()\n",
    "model.fit(df_Items[['iphone_version']], df_Items[['iphone_price']])\n",
    "print(model.predict([[45]]))"
   ]
  },
  {
   "cell_type": "code",
   "execution_count": null,
   "id": "c96737d7",
   "metadata": {},
   "outputs": [],
   "source": []
  }
 ],
 "metadata": {
  "kernelspec": {
   "display_name": "Python 3 (ipykernel)",
   "language": "python",
   "name": "python3"
  },
  "language_info": {
   "codemirror_mode": {
    "name": "ipython",
    "version": 3
   },
   "file_extension": ".py",
   "mimetype": "text/x-python",
   "name": "python",
   "nbconvert_exporter": "python",
   "pygments_lexer": "ipython3",
   "version": "3.11.3"
  }
 },
 "nbformat": 4,
 "nbformat_minor": 5
}
